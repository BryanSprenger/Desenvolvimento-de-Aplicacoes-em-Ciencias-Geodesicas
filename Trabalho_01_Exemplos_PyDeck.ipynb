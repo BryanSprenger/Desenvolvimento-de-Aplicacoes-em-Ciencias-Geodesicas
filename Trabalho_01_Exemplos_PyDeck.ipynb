{
  "nbformat": 4,
  "nbformat_minor": 0,
  "metadata": {
    "colab": {
      "provenance": [],
      "authorship_tag": "ABX9TyNvKTvaAPFbgShi8BSkaTpC",
      "include_colab_link": true
    },
    "kernelspec": {
      "name": "python3",
      "display_name": "Python 3"
    },
    "language_info": {
      "name": "python"
    }
  },
  "cells": [
    {
      "cell_type": "markdown",
      "metadata": {
        "id": "view-in-github",
        "colab_type": "text"
      },
      "source": [
        "<a href=\"https://colab.research.google.com/github/BryanSprenger/Desenvolvimento-de-Aplicacoes-em-Ciencias-Geodesicas/blob/main/Trabalho_01_Exemplos_PyDeck.ipynb\" target=\"_parent\"><img src=\"https://colab.research.google.com/assets/colab-badge.svg\" alt=\"Open In Colab\"/></a>"
      ]
    },
    {
      "cell_type": "code",
      "execution_count": 9,
      "metadata": {
        "colab": {
          "base_uri": "https://localhost:8080/",
          "height": 500
        },
        "id": "uwOxcv8MNB9s",
        "outputId": "0bd2822f-a38c-47a1-f05c-a17b98f9b127"
      },
      "outputs": [
        {
          "output_type": "display_data",
          "data": {
            "text/plain": [
              "<IPython.core.display.Javascript object>"
            ],
            "application/javascript": [
              "google.colab.output.setIframeHeight(500, true, {minHeight: 500, maxHeight: 500})"
            ]
          },
          "metadata": {}
        },
        {
          "output_type": "display_data",
          "data": {
            "text/plain": [
              "<IPython.core.display.HTML object>"
            ],
            "text/html": [
              "<!DOCTYPE html>\n",
              "<html>\n",
              "  <head>\n",
              "    <meta http-equiv=\"content-type\" content=\"text/html; charset=UTF-8\" />\n",
              "    <title>pydeck</title>\n",
              "        <script src=\"https://api.tiles.mapbox.com/mapbox-gl-js/v1.13.0/mapbox-gl.js\"></script>\n",
              "        <link rel=\"stylesheet\" href=\"https://maxcdn.bootstrapcdn.com/bootstrap/3.2.0/css/bootstrap-theme.min.css\" />\n",
              "    <link rel=\"stylesheet\" href=\"https://maxcdn.bootstrapcdn.com/font-awesome/4.6.3/css/font-awesome.min.css\" />\n",
              "    <script src='https://cdn.jsdelivr.net/npm/@deck.gl/jupyter-widget@~9.0.*/dist/index.js'></script>\n",
              "    <style>\n",
              "    body {\n",
              "  margin: 0;\n",
              "  padding: 0;\n",
              "  overflow: hidden;\n",
              "}\n",
              "\n",
              "#deck-container {\n",
              "  width: 100vw;\n",
              "  height: 100vh;\n",
              "}\n",
              "\n",
              "#deck-container canvas {\n",
              "  z-index: 1;\n",
              "  background: none;\n",
              "}\n",
              "    </style>\n",
              "  </head>\n",
              "  <body>\n",
              "    <div id=\"deck-container\">\n",
              "    </div>\n",
              "  </body>\n",
              "  <script>\n",
              "    const container = document.getElementById('deck-container');\n",
              "    const jsonInput = {\n",
              "  \"initialViewState\": {\n",
              "    \"bearing\": -27.36,\n",
              "    \"latitude\": 52.2323,\n",
              "    \"longitude\": -1.415,\n",
              "    \"maxZoom\": 15,\n",
              "    \"minZoom\": 5,\n",
              "    \"pitch\": 40.5,\n",
              "    \"zoom\": 6\n",
              "  },\n",
              "  \"layers\": [\n",
              "    {\n",
              "      \"@@type\": \"HexagonLayer\",\n",
              "      \"autoHighlight\": true,\n",
              "      \"coverage\": 1,\n",
              "      \"data\": \"https://raw.githubusercontent.com/uber-common/deck.gl-data/master/examples/3d-heatmap/heatmap-data.csv\",\n",
              "      \"elevationRange\": [\n",
              "        0,\n",
              "        3000\n",
              "      ],\n",
              "      \"elevationScale\": 50,\n",
              "      \"extruded\": true,\n",
              "      \"getPosition\": \"@@=[lng, lat]\",\n",
              "      \"id\": \"67a2c706-d964-450c-b843-e823751984b2\",\n",
              "      \"pickable\": true\n",
              "    }\n",
              "  ],\n",
              "  \"mapProvider\": \"carto\",\n",
              "  \"mapStyle\": \"https://basemaps.cartocdn.com/gl/dark-matter-gl-style/style.json\",\n",
              "  \"views\": [\n",
              "    {\n",
              "      \"@@type\": \"MapView\",\n",
              "      \"controller\": true\n",
              "    }\n",
              "  ]\n",
              "};\n",
              "    const tooltip = true;\n",
              "    const customLibraries = null;\n",
              "    const configuration = null;\n",
              "\n",
              "    const deckInstance = createDeck({\n",
              "                  container,\n",
              "      jsonInput,\n",
              "      tooltip,\n",
              "      customLibraries,\n",
              "      configuration\n",
              "    });\n",
              "\n",
              "  </script>\n",
              "</html>"
            ]
          },
          "metadata": {}
        }
      ],
      "source": [
        "!pip install pydeck -q\n",
        "import pydeck as pdk\n",
        "import pandas as pd\n",
        "\n",
        "import pydeck as pdk\n",
        "\n",
        "# 2014 locations of car accidents in the UK\n",
        "UK_ACCIDENTS_DATA = ('https://raw.githubusercontent.com/uber-common/'\n",
        "                     'deck.gl-data/master/examples/3d-heatmap/heatmap-data.csv')\n",
        "\n",
        "# Define a layer to display on a map\n",
        "layer = pdk.Layer(\n",
        "    'HexagonLayer',\n",
        "    UK_ACCIDENTS_DATA,\n",
        "    get_position=['lng', 'lat'],\n",
        "    auto_highlight=True,\n",
        "    elevation_scale=50,\n",
        "    pickable=True,\n",
        "    elevation_range=[0, 3000],\n",
        "    extruded=True,\n",
        "    coverage=1)\n",
        "\n",
        "# Set the viewport location\n",
        "view_state = pdk.ViewState(\n",
        "    longitude=-1.415,\n",
        "    latitude=52.2323,\n",
        "    zoom=6,\n",
        "    min_zoom=5,\n",
        "    max_zoom=15,\n",
        "    pitch=40.5,\n",
        "    bearing=-27.36)\n",
        "\n",
        "# Render\n",
        "r = pdk.Deck(layers=[layer], initial_view_state=view_state)\n",
        "r.to_html('demo.html')\n"
      ]
    }
  ]
}